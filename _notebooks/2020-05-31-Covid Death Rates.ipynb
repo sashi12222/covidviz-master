{
 "cells": [
  {
   "cell_type": "markdown",
   "metadata": {},
   "source": [
    "# Covid Death Rates Graph\n",
    "> Making a layered chart comprising a step area chart of deaths per day, and a rectangle chart starting from the day of Stay at Home Order for states in the U.S\n",
    "\n",
    "- toc: false\n",
    "- hide: false\n",
    "- branch: master\n",
    "- badges: true\n",
    "- comments: true\n",
    "- author: Shantam Raj\n",
    "- categories: NYT\n",
    "- image: images/step_area.png"
   ]
  },
  {
   "cell_type": "markdown",
   "metadata": {},
   "source": [
    "The graph that we will learn to make today is from the NYT article on [Comparing Coronavirus Death Rates Across the U.S](https://www.nytimes.com/interactive/2020/04/22/us/coronavirus-death-rates.html)\n",
    "\n",
    "![us deaths](images/bar_step.png)"
   ]
  },
  {
   "cell_type": "code",
   "execution_count": 1,
   "metadata": {},
   "outputs": [
    {
     "output_type": "execute_result",
     "data": {
      "text/html": "\n<div id=\"altair-viz-288996c80f1643d7b94935be919ab7fa\"></div>\n<script type=\"text/javascript\">\n  (function(spec, embedOpt){\n    let outputDiv = document.currentScript.previousElementSibling;\n    if (outputDiv.id !== \"altair-viz-288996c80f1643d7b94935be919ab7fa\") {\n      outputDiv = document.getElementById(\"altair-viz-288996c80f1643d7b94935be919ab7fa\");\n    }\n    const paths = {\n      \"vega\": \"https://cdn.jsdelivr.net/npm//vega@5?noext\",\n      \"vega-lib\": \"https://cdn.jsdelivr.net/npm//vega-lib?noext\",\n      \"vega-lite\": \"https://cdn.jsdelivr.net/npm//vega-lite@4.8.1?noext\",\n      \"vega-embed\": \"https://cdn.jsdelivr.net/npm//vega-embed@6?noext\",\n    };\n\n    function loadScript(lib) {\n      return new Promise(function(resolve, reject) {\n        var s = document.createElement('script');\n        s.src = paths[lib];\n        s.async = true;\n        s.onload = () => resolve(paths[lib]);\n        s.onerror = () => reject(`Error loading script: ${paths[lib]}`);\n        document.getElementsByTagName(\"head\")[0].appendChild(s);\n      });\n    }\n\n    function showError(err) {\n      outputDiv.innerHTML = `<div class=\"error\" style=\"color:red;\">${err}</div>`;\n      throw err;\n    }\n\n    function displayChart(vegaEmbed) {\n      vegaEmbed(outputDiv, spec, embedOpt)\n        .catch(err => showError(`Javascript Error: ${err.message}<br>This usually means there's a typo in your chart specification. See the javascript console for the full traceback.`));\n    }\n\n    if(typeof define === \"function\" && define.amd) {\n      requirejs.config({paths});\n      require([\"vega-embed\"], displayChart, err => showError(`Error loading script: ${err.message}`));\n    } else if (typeof vegaEmbed === \"function\") {\n      displayChart(vegaEmbed);\n    } else {\n      loadScript(\"vega\")\n        .then(() => loadScript(\"vega-lite\"))\n        .then(() => loadScript(\"vega-embed\"))\n        .catch(showError)\n        .then(() => displayChart(vegaEmbed));\n    }\n  })({\"config\": {\"view\": {\"continuousWidth\": 400, \"continuousHeight\": 300, \"strokeWidth\": 0}, \"axis\": {\"grid\": false, \"title\": null}}, \"data\": {\"name\": \"data-8845309190981a08b313fb64d1816a58\"}, \"mark\": {\"type\": \"area\", \"fill\": \"red\", \"fillOpacity\": 0.5, \"interpolate\": \"step-after\", \"line\": true}, \"encoding\": {\"color\": {\"value\": \"red\"}, \"x\": {\"type\": \"temporal\", \"field\": \"date\"}, \"y\": {\"type\": \"quantitative\", \"field\": \"deaths_perday\"}}, \"height\": 250, \"width\": 700, \"$schema\": \"https://vega.github.io/schema/vega-lite/v4.8.1.json\", \"datasets\": {\"data-8845309190981a08b313fb64d1816a58\": [{\"date\": \"2020-03-01\", \"state\": \"New York\", \"fips\": 36, \"cases\": 1, \"deaths\": 0, \"deaths_perday\": null}, {\"date\": \"2020-03-02\", \"state\": \"New York\", \"fips\": 36, \"cases\": 1, \"deaths\": 0, \"deaths_perday\": 0.0}, {\"date\": \"2020-03-03\", \"state\": \"New York\", \"fips\": 36, \"cases\": 2, \"deaths\": 0, \"deaths_perday\": 0.0}, {\"date\": \"2020-03-04\", \"state\": \"New York\", \"fips\": 36, \"cases\": 11, \"deaths\": 0, \"deaths_perday\": 0.0}, {\"date\": \"2020-03-05\", \"state\": \"New York\", \"fips\": 36, \"cases\": 22, \"deaths\": 0, \"deaths_perday\": 0.0}, {\"date\": \"2020-03-06\", \"state\": \"New York\", \"fips\": 36, \"cases\": 44, \"deaths\": 0, \"deaths_perday\": 0.0}, {\"date\": \"2020-03-07\", \"state\": \"New York\", \"fips\": 36, \"cases\": 89, \"deaths\": 0, \"deaths_perday\": 0.0}, {\"date\": \"2020-03-08\", \"state\": \"New York\", \"fips\": 36, \"cases\": 106, \"deaths\": 0, \"deaths_perday\": 0.0}, {\"date\": \"2020-03-09\", \"state\": \"New York\", \"fips\": 36, \"cases\": 142, \"deaths\": 0, \"deaths_perday\": 0.0}, {\"date\": \"2020-03-10\", \"state\": \"New York\", \"fips\": 36, \"cases\": 173, \"deaths\": 0, \"deaths_perday\": 0.0}, {\"date\": \"2020-03-11\", \"state\": \"New York\", \"fips\": 36, \"cases\": 217, \"deaths\": 0, \"deaths_perday\": 0.0}, {\"date\": \"2020-03-12\", \"state\": \"New York\", \"fips\": 36, \"cases\": 326, \"deaths\": 0, \"deaths_perday\": 0.0}, {\"date\": \"2020-03-13\", \"state\": \"New York\", \"fips\": 36, \"cases\": 421, \"deaths\": 0, \"deaths_perday\": 0.0}, {\"date\": \"2020-03-14\", \"state\": \"New York\", \"fips\": 36, \"cases\": 610, \"deaths\": 2, \"deaths_perday\": 2.0}, {\"date\": \"2020-03-15\", \"state\": \"New York\", \"fips\": 36, \"cases\": 732, \"deaths\": 6, \"deaths_perday\": 4.0}, {\"date\": \"2020-03-16\", \"state\": \"New York\", \"fips\": 36, \"cases\": 950, \"deaths\": 10, \"deaths_perday\": 4.0}, {\"date\": \"2020-03-17\", \"state\": \"New York\", \"fips\": 36, \"cases\": 1375, \"deaths\": 18, \"deaths_perday\": 8.0}, {\"date\": \"2020-03-18\", \"state\": \"New York\", \"fips\": 36, \"cases\": 2387, \"deaths\": 32, \"deaths_perday\": 14.0}, {\"date\": \"2020-03-19\", \"state\": \"New York\", \"fips\": 36, \"cases\": 4161, \"deaths\": 39, \"deaths_perday\": 7.0}, {\"date\": \"2020-03-20\", \"state\": \"New York\", \"fips\": 36, \"cases\": 7113, \"deaths\": 68, \"deaths_perday\": 29.0}, {\"date\": \"2020-03-21\", \"state\": \"New York\", \"fips\": 36, \"cases\": 10371, \"deaths\": 95, \"deaths_perday\": 27.0}, {\"date\": \"2020-03-22\", \"state\": \"New York\", \"fips\": 36, \"cases\": 15188, \"deaths\": 142, \"deaths_perday\": 47.0}, {\"date\": \"2020-03-23\", \"state\": \"New York\", \"fips\": 36, \"cases\": 20899, \"deaths\": 183, \"deaths_perday\": 41.0}, {\"date\": \"2020-03-24\", \"state\": \"New York\", \"fips\": 36, \"cases\": 25704, \"deaths\": 264, \"deaths_perday\": 81.0}, {\"date\": \"2020-03-25\", \"state\": \"New York\", \"fips\": 36, \"cases\": 33117, \"deaths\": 381, \"deaths_perday\": 117.0}, {\"date\": \"2020-03-26\", \"state\": \"New York\", \"fips\": 36, \"cases\": 39058, \"deaths\": 502, \"deaths_perday\": 121.0}, {\"date\": \"2020-03-27\", \"state\": \"New York\", \"fips\": 36, \"cases\": 44746, \"deaths\": 645, \"deaths_perday\": 143.0}, {\"date\": \"2020-03-28\", \"state\": \"New York\", \"fips\": 36, \"cases\": 53517, \"deaths\": 935, \"deaths_perday\": 290.0}, {\"date\": \"2020-03-29\", \"state\": \"New York\", \"fips\": 36, \"cases\": 59783, \"deaths\": 1180, \"deaths_perday\": 245.0}, {\"date\": \"2020-03-30\", \"state\": \"New York\", \"fips\": 36, \"cases\": 67504, \"deaths\": 1512, \"deaths_perday\": 332.0}, {\"date\": \"2020-03-31\", \"state\": \"New York\", \"fips\": 36, \"cases\": 76211, \"deaths\": 1929, \"deaths_perday\": 417.0}, {\"date\": \"2020-04-01\", \"state\": \"New York\", \"fips\": 36, \"cases\": 84364, \"deaths\": 2415, \"deaths_perday\": 486.0}, {\"date\": \"2020-04-02\", \"state\": \"New York\", \"fips\": 36, \"cases\": 93360, \"deaths\": 2963, \"deaths_perday\": 548.0}, {\"date\": \"2020-04-03\", \"state\": \"New York\", \"fips\": 36, \"cases\": 103689, \"deaths\": 3716, \"deaths_perday\": 753.0}, {\"date\": \"2020-04-04\", \"state\": \"New York\", \"fips\": 36, \"cases\": 115963, \"deaths\": 4535, \"deaths_perday\": 819.0}, {\"date\": \"2020-04-05\", \"state\": \"New York\", \"fips\": 36, \"cases\": 124085, \"deaths\": 5335, \"deaths_perday\": 800.0}, {\"date\": \"2020-04-06\", \"state\": \"New York\", \"fips\": 36, \"cases\": 133389, \"deaths\": 6149, \"deaths_perday\": 814.0}, {\"date\": \"2020-04-07\", \"state\": \"New York\", \"fips\": 36, \"cases\": 141703, \"deaths\": 7185, \"deaths_perday\": 1036.0}, {\"date\": \"2020-04-08\", \"state\": \"New York\", \"fips\": 36, \"cases\": 151271, \"deaths\": 8138, \"deaths_perday\": 953.0}, {\"date\": \"2020-04-09\", \"state\": \"New York\", \"fips\": 36, \"cases\": 162036, \"deaths\": 9166, \"deaths_perday\": 1028.0}, {\"date\": \"2020-04-10\", \"state\": \"New York\", \"fips\": 36, \"cases\": 172830, \"deaths\": 10162, \"deaths_perday\": 996.0}, {\"date\": \"2020-04-11\", \"state\": \"New York\", \"fips\": 36, \"cases\": 182990, \"deaths\": 11159, \"deaths_perday\": 997.0}, {\"date\": \"2020-04-12\", \"state\": \"New York\", \"fips\": 36, \"cases\": 191425, \"deaths\": 12116, \"deaths_perday\": 957.0}, {\"date\": \"2020-04-13\", \"state\": \"New York\", \"fips\": 36, \"cases\": 197973, \"deaths\": 12998, \"deaths_perday\": 882.0}, {\"date\": \"2020-04-14\", \"state\": \"New York\", \"fips\": 36, \"cases\": 205375, \"deaths\": 14001, \"deaths_perday\": 1003.0}, {\"date\": \"2020-04-15\", \"state\": \"New York\", \"fips\": 36, \"cases\": 217130, \"deaths\": 14937, \"deaths_perday\": 936.0}, {\"date\": \"2020-04-16\", \"state\": \"New York\", \"fips\": 36, \"cases\": 225761, \"deaths\": 15669, \"deaths_perday\": 732.0}, {\"date\": \"2020-04-17\", \"state\": \"New York\", \"fips\": 36, \"cases\": 233293, \"deaths\": 16473, \"deaths_perday\": 804.0}, {\"date\": \"2020-04-18\", \"state\": \"New York\", \"fips\": 36, \"cases\": 240542, \"deaths\": 17141, \"deaths_perday\": 668.0}, {\"date\": \"2020-04-19\", \"state\": \"New York\", \"fips\": 36, \"cases\": 246741, \"deaths\": 17793, \"deaths_perday\": 652.0}, {\"date\": \"2020-04-20\", \"state\": \"New York\", \"fips\": 36, \"cases\": 251608, \"deaths\": 18412, \"deaths_perday\": 619.0}, {\"date\": \"2020-04-21\", \"state\": \"New York\", \"fips\": 36, \"cases\": 255932, \"deaths\": 19040, \"deaths_perday\": 628.0}, {\"date\": \"2020-04-22\", \"state\": \"New York\", \"fips\": 36, \"cases\": 261591, \"deaths\": 19647, \"deaths_perday\": 607.0}]}}, {\"actions\": false, \"mode\": \"vega-lite\"});\n</script>",
      "text/plain": [
       "alt.Chart(...)"
      ]
     },
     "metadata": {},
     "execution_count": 1
    }
   ],
   "source": [
    "import altair as alt\n",
    "import pandas as pd\n",
    "alt.renderers.set_embed_options(actions=False)\n",
    "\n",
    "url = \"https://raw.githubusercontent.com/nytimes/covid-19-data/master/us-states.csv\"\n",
    "usdf = pd.read_csv(url)\n",
    "nydf = usdf[(usdf['state'] == \"New York\") & (usdf['date'] < '2020-04-23')]\n",
    "nydf['deaths_perday'] = nydf['deaths'].diff()\n",
    "\n",
    "chart = alt.Chart(nydf).mark_area(fill='red', fillOpacity=0.5, line=True, interpolate='step-after',).encode(\n",
    "    x='date:T',\n",
    "    y='deaths_perday:Q',\n",
    "    color=alt.value('red') # Exceptional Case, bug in Vega or Vega Lite - https://stackoverflow.com/questions/62005052/how-do-i-change-the-line-color-in-altairs-filled-step-chart\n",
    "    \n",
    ").properties(height=250, width=700).configure_view(\n",
    "    strokeWidth=0\n",
    ").configure_axis(\n",
    "    grid=False,\n",
    "    title=None\n",
    ")\n",
    "chart"
   ]
  },
  {
   "cell_type": "markdown",
   "metadata": {},
   "source": [
    "To highlight the region after the **Stay at Home** order date, we will use a Rectangle Chart - `mark_react()`  \n",
    "We will also make a new source data that contains the starting date of the stay at home order and the perhaps the end date of stay at home or just the latest data in the dataset. NYT has not updated this graph and has data only till 21st or 22nd April."
   ]
  },
  {
   "cell_type": "code",
   "execution_count": 2,
   "metadata": {},
   "outputs": [],
   "source": [
    "# collapse\n",
    "chart = alt.Chart(nydf).mark_area(fill='red', fillOpacity=0.5, line=True, interpolate='step-after',).encode(\n",
    "    x='date:T',\n",
    "    y='deaths_perday:Q',\n",
    "    color=alt.value('red') # Exceptional Case, bug in Vega or Vega Lite - https://stackoverflow.com/questions/62005052/how-do-i-change-the-line-color-in-altairs-filled-step-chart\n",
    "    \n",
    ").properties(height=250, width=700)\n"
   ]
  },
  {
   "cell_type": "markdown",
   "metadata": {},
   "source": [
    "This is the important piece of code on how to set up the Rectangle chart"
   ]
  },
  {
   "cell_type": "code",
   "execution_count": 3,
   "metadata": {},
   "outputs": [
    {
     "output_type": "execute_result",
     "data": {
      "text/html": "\n<div id=\"altair-viz-7ba145f8fa634670a9ea8188015a6754\"></div>\n<script type=\"text/javascript\">\n  (function(spec, embedOpt){\n    let outputDiv = document.currentScript.previousElementSibling;\n    if (outputDiv.id !== \"altair-viz-7ba145f8fa634670a9ea8188015a6754\") {\n      outputDiv = document.getElementById(\"altair-viz-7ba145f8fa634670a9ea8188015a6754\");\n    }\n    const paths = {\n      \"vega\": \"https://cdn.jsdelivr.net/npm//vega@5?noext\",\n      \"vega-lib\": \"https://cdn.jsdelivr.net/npm//vega-lib?noext\",\n      \"vega-lite\": \"https://cdn.jsdelivr.net/npm//vega-lite@4.8.1?noext\",\n      \"vega-embed\": \"https://cdn.jsdelivr.net/npm//vega-embed@6?noext\",\n    };\n\n    function loadScript(lib) {\n      return new Promise(function(resolve, reject) {\n        var s = document.createElement('script');\n        s.src = paths[lib];\n        s.async = true;\n        s.onload = () => resolve(paths[lib]);\n        s.onerror = () => reject(`Error loading script: ${paths[lib]}`);\n        document.getElementsByTagName(\"head\")[0].appendChild(s);\n      });\n    }\n\n    function showError(err) {\n      outputDiv.innerHTML = `<div class=\"error\" style=\"color:red;\">${err}</div>`;\n      throw err;\n    }\n\n    function displayChart(vegaEmbed) {\n      vegaEmbed(outputDiv, spec, embedOpt)\n        .catch(err => showError(`Javascript Error: ${err.message}<br>This usually means there's a typo in your chart specification. See the javascript console for the full traceback.`));\n    }\n\n    if(typeof define === \"function\" && define.amd) {\n      requirejs.config({paths});\n      require([\"vega-embed\"], displayChart, err => showError(`Error loading script: ${err.message}`));\n    } else if (typeof vegaEmbed === \"function\") {\n      displayChart(vegaEmbed);\n    } else {\n      loadScript(\"vega\")\n        .then(() => loadScript(\"vega-lite\"))\n        .then(() => loadScript(\"vega-embed\"))\n        .catch(showError)\n        .then(() => displayChart(vegaEmbed));\n    }\n  })({\"config\": {\"view\": {\"continuousWidth\": 400, \"continuousHeight\": 300, \"strokeWidth\": 0}, \"axis\": {\"grid\": false, \"title\": null}}, \"layer\": [{\"data\": {\"name\": \"data-995536be27058e0bbc42a4d938bd5408\"}, \"mark\": \"rect\", \"encoding\": {\"color\": {\"value\": \"lightgray\"}, \"x\": {\"type\": \"temporal\", \"field\": \"start\"}, \"x2\": {\"field\": \"end\"}}}, {\"data\": {\"name\": \"data-8845309190981a08b313fb64d1816a58\"}, \"mark\": {\"type\": \"area\", \"fill\": \"red\", \"fillOpacity\": 0.5, \"interpolate\": \"step-after\", \"line\": true}, \"encoding\": {\"color\": {\"value\": \"red\"}, \"x\": {\"type\": \"temporal\", \"field\": \"date\"}, \"y\": {\"type\": \"quantitative\", \"field\": \"deaths_perday\"}}, \"height\": 250, \"width\": 700}], \"$schema\": \"https://vega.github.io/schema/vega-lite/v4.8.1.json\", \"datasets\": {\"data-995536be27058e0bbc42a4d938bd5408\": [{\"start\": \"2020-03-23\", \"end\": \"2020-04-22\", \"event\": \"Stay at Home\"}], \"data-8845309190981a08b313fb64d1816a58\": [{\"date\": \"2020-03-01\", \"state\": \"New York\", \"fips\": 36, \"cases\": 1, \"deaths\": 0, \"deaths_perday\": null}, {\"date\": \"2020-03-02\", \"state\": \"New York\", \"fips\": 36, \"cases\": 1, \"deaths\": 0, \"deaths_perday\": 0.0}, {\"date\": \"2020-03-03\", \"state\": \"New York\", \"fips\": 36, \"cases\": 2, \"deaths\": 0, \"deaths_perday\": 0.0}, {\"date\": \"2020-03-04\", \"state\": \"New York\", \"fips\": 36, \"cases\": 11, \"deaths\": 0, \"deaths_perday\": 0.0}, {\"date\": \"2020-03-05\", \"state\": \"New York\", \"fips\": 36, \"cases\": 22, \"deaths\": 0, \"deaths_perday\": 0.0}, {\"date\": \"2020-03-06\", \"state\": \"New York\", \"fips\": 36, \"cases\": 44, \"deaths\": 0, \"deaths_perday\": 0.0}, {\"date\": \"2020-03-07\", \"state\": \"New York\", \"fips\": 36, \"cases\": 89, \"deaths\": 0, \"deaths_perday\": 0.0}, {\"date\": \"2020-03-08\", \"state\": \"New York\", \"fips\": 36, \"cases\": 106, \"deaths\": 0, \"deaths_perday\": 0.0}, {\"date\": \"2020-03-09\", \"state\": \"New York\", \"fips\": 36, \"cases\": 142, \"deaths\": 0, \"deaths_perday\": 0.0}, {\"date\": \"2020-03-10\", \"state\": \"New York\", \"fips\": 36, \"cases\": 173, \"deaths\": 0, \"deaths_perday\": 0.0}, {\"date\": \"2020-03-11\", \"state\": \"New York\", \"fips\": 36, \"cases\": 217, \"deaths\": 0, \"deaths_perday\": 0.0}, {\"date\": \"2020-03-12\", \"state\": \"New York\", \"fips\": 36, \"cases\": 326, \"deaths\": 0, \"deaths_perday\": 0.0}, {\"date\": \"2020-03-13\", \"state\": \"New York\", \"fips\": 36, \"cases\": 421, \"deaths\": 0, \"deaths_perday\": 0.0}, {\"date\": \"2020-03-14\", \"state\": \"New York\", \"fips\": 36, \"cases\": 610, \"deaths\": 2, \"deaths_perday\": 2.0}, {\"date\": \"2020-03-15\", \"state\": \"New York\", \"fips\": 36, \"cases\": 732, \"deaths\": 6, \"deaths_perday\": 4.0}, {\"date\": \"2020-03-16\", \"state\": \"New York\", \"fips\": 36, \"cases\": 950, \"deaths\": 10, \"deaths_perday\": 4.0}, {\"date\": \"2020-03-17\", \"state\": \"New York\", \"fips\": 36, \"cases\": 1375, \"deaths\": 18, \"deaths_perday\": 8.0}, {\"date\": \"2020-03-18\", \"state\": \"New York\", \"fips\": 36, \"cases\": 2387, \"deaths\": 32, \"deaths_perday\": 14.0}, {\"date\": \"2020-03-19\", \"state\": \"New York\", \"fips\": 36, \"cases\": 4161, \"deaths\": 39, \"deaths_perday\": 7.0}, {\"date\": \"2020-03-20\", \"state\": \"New York\", \"fips\": 36, \"cases\": 7113, \"deaths\": 68, \"deaths_perday\": 29.0}, {\"date\": \"2020-03-21\", \"state\": \"New York\", \"fips\": 36, \"cases\": 10371, \"deaths\": 95, \"deaths_perday\": 27.0}, {\"date\": \"2020-03-22\", \"state\": \"New York\", \"fips\": 36, \"cases\": 15188, \"deaths\": 142, \"deaths_perday\": 47.0}, {\"date\": \"2020-03-23\", \"state\": \"New York\", \"fips\": 36, \"cases\": 20899, \"deaths\": 183, \"deaths_perday\": 41.0}, {\"date\": \"2020-03-24\", \"state\": \"New York\", \"fips\": 36, \"cases\": 25704, \"deaths\": 264, \"deaths_perday\": 81.0}, {\"date\": \"2020-03-25\", \"state\": \"New York\", \"fips\": 36, \"cases\": 33117, \"deaths\": 381, \"deaths_perday\": 117.0}, {\"date\": \"2020-03-26\", \"state\": \"New York\", \"fips\": 36, \"cases\": 39058, \"deaths\": 502, \"deaths_perday\": 121.0}, {\"date\": \"2020-03-27\", \"state\": \"New York\", \"fips\": 36, \"cases\": 44746, \"deaths\": 645, \"deaths_perday\": 143.0}, {\"date\": \"2020-03-28\", \"state\": \"New York\", \"fips\": 36, \"cases\": 53517, \"deaths\": 935, \"deaths_perday\": 290.0}, {\"date\": \"2020-03-29\", \"state\": \"New York\", \"fips\": 36, \"cases\": 59783, \"deaths\": 1180, \"deaths_perday\": 245.0}, {\"date\": \"2020-03-30\", \"state\": \"New York\", \"fips\": 36, \"cases\": 67504, \"deaths\": 1512, \"deaths_perday\": 332.0}, {\"date\": \"2020-03-31\", \"state\": \"New York\", \"fips\": 36, \"cases\": 76211, \"deaths\": 1929, \"deaths_perday\": 417.0}, {\"date\": \"2020-04-01\", \"state\": \"New York\", \"fips\": 36, \"cases\": 84364, \"deaths\": 2415, \"deaths_perday\": 486.0}, {\"date\": \"2020-04-02\", \"state\": \"New York\", \"fips\": 36, \"cases\": 93360, \"deaths\": 2963, \"deaths_perday\": 548.0}, {\"date\": \"2020-04-03\", \"state\": \"New York\", \"fips\": 36, \"cases\": 103689, \"deaths\": 3716, \"deaths_perday\": 753.0}, {\"date\": \"2020-04-04\", \"state\": \"New York\", \"fips\": 36, \"cases\": 115963, \"deaths\": 4535, \"deaths_perday\": 819.0}, {\"date\": \"2020-04-05\", \"state\": \"New York\", \"fips\": 36, \"cases\": 124085, \"deaths\": 5335, \"deaths_perday\": 800.0}, {\"date\": \"2020-04-06\", \"state\": \"New York\", \"fips\": 36, \"cases\": 133389, \"deaths\": 6149, \"deaths_perday\": 814.0}, {\"date\": \"2020-04-07\", \"state\": \"New York\", \"fips\": 36, \"cases\": 141703, \"deaths\": 7185, \"deaths_perday\": 1036.0}, {\"date\": \"2020-04-08\", \"state\": \"New York\", \"fips\": 36, \"cases\": 151271, \"deaths\": 8138, \"deaths_perday\": 953.0}, {\"date\": \"2020-04-09\", \"state\": \"New York\", \"fips\": 36, \"cases\": 162036, \"deaths\": 9166, \"deaths_perday\": 1028.0}, {\"date\": \"2020-04-10\", \"state\": \"New York\", \"fips\": 36, \"cases\": 172830, \"deaths\": 10162, \"deaths_perday\": 996.0}, {\"date\": \"2020-04-11\", \"state\": \"New York\", \"fips\": 36, \"cases\": 182990, \"deaths\": 11159, \"deaths_perday\": 997.0}, {\"date\": \"2020-04-12\", \"state\": \"New York\", \"fips\": 36, \"cases\": 191425, \"deaths\": 12116, \"deaths_perday\": 957.0}, {\"date\": \"2020-04-13\", \"state\": \"New York\", \"fips\": 36, \"cases\": 197973, \"deaths\": 12998, \"deaths_perday\": 882.0}, {\"date\": \"2020-04-14\", \"state\": \"New York\", \"fips\": 36, \"cases\": 205375, \"deaths\": 14001, \"deaths_perday\": 1003.0}, {\"date\": \"2020-04-15\", \"state\": \"New York\", \"fips\": 36, \"cases\": 217130, \"deaths\": 14937, \"deaths_perday\": 936.0}, {\"date\": \"2020-04-16\", \"state\": \"New York\", \"fips\": 36, \"cases\": 225761, \"deaths\": 15669, \"deaths_perday\": 732.0}, {\"date\": \"2020-04-17\", \"state\": \"New York\", \"fips\": 36, \"cases\": 233293, \"deaths\": 16473, \"deaths_perday\": 804.0}, {\"date\": \"2020-04-18\", \"state\": \"New York\", \"fips\": 36, \"cases\": 240542, \"deaths\": 17141, \"deaths_perday\": 668.0}, {\"date\": \"2020-04-19\", \"state\": \"New York\", \"fips\": 36, \"cases\": 246741, \"deaths\": 17793, \"deaths_perday\": 652.0}, {\"date\": \"2020-04-20\", \"state\": \"New York\", \"fips\": 36, \"cases\": 251608, \"deaths\": 18412, \"deaths_perday\": 619.0}, {\"date\": \"2020-04-21\", \"state\": \"New York\", \"fips\": 36, \"cases\": 255932, \"deaths\": 19040, \"deaths_perday\": 628.0}, {\"date\": \"2020-04-22\", \"state\": \"New York\", \"fips\": 36, \"cases\": 261591, \"deaths\": 19647, \"deaths_perday\": 607.0}]}}, {\"actions\": false, \"mode\": \"vega-lite\"});\n</script>",
      "text/plain": [
       "alt.LayerChart(...)"
      ]
     },
     "metadata": {},
     "execution_count": 3
    }
   ],
   "source": [
    "source2 = [{\n",
    "            \"start\": \"2020-03-23\",\n",
    "            \"end\": nydf['date'].max(),\n",
    "            \"event\": \"Stay at Home\"\n",
    "          }]\n",
    "source2 = alt.pd.DataFrame(source2)\n",
    "\n",
    "rect = alt.Chart(source2).mark_rect().encode(\n",
    "    x =  'start:T',\n",
    "    x2 = 'end:T',\n",
    "    color=alt.value('lightgray')\n",
    ")\n",
    "(rect+chart).configure_view(\n",
    "    strokeWidth=0\n",
    ").configure_axis(\n",
    "    grid=False,\n",
    "    title=None\n",
    ")"
   ]
  },
  {
   "cell_type": "markdown",
   "metadata": {},
   "source": [
    "Similarly you can do the same for any other state. Lets try Michigan for a change -"
   ]
  },
  {
   "cell_type": "code",
   "execution_count": 4,
   "metadata": {},
   "outputs": [],
   "source": [
    "michdf = usdf[(usdf['state'] == \"Michigan\") & (usdf['date'] < '2020-04-23')]\n",
    "michdf['deaths_perday'] = michdf['deaths'].diff()"
   ]
  },
  {
   "cell_type": "code",
   "execution_count": 5,
   "metadata": {},
   "outputs": [
    {
     "output_type": "execute_result",
     "data": {
      "text/html": "\n<div id=\"altair-viz-682384b6b04e4cf3a3c0d329f5f549e6\"></div>\n<script type=\"text/javascript\">\n  (function(spec, embedOpt){\n    let outputDiv = document.currentScript.previousElementSibling;\n    if (outputDiv.id !== \"altair-viz-682384b6b04e4cf3a3c0d329f5f549e6\") {\n      outputDiv = document.getElementById(\"altair-viz-682384b6b04e4cf3a3c0d329f5f549e6\");\n    }\n    const paths = {\n      \"vega\": \"https://cdn.jsdelivr.net/npm//vega@5?noext\",\n      \"vega-lib\": \"https://cdn.jsdelivr.net/npm//vega-lib?noext\",\n      \"vega-lite\": \"https://cdn.jsdelivr.net/npm//vega-lite@4.8.1?noext\",\n      \"vega-embed\": \"https://cdn.jsdelivr.net/npm//vega-embed@6?noext\",\n    };\n\n    function loadScript(lib) {\n      return new Promise(function(resolve, reject) {\n        var s = document.createElement('script');\n        s.src = paths[lib];\n        s.async = true;\n        s.onload = () => resolve(paths[lib]);\n        s.onerror = () => reject(`Error loading script: ${paths[lib]}`);\n        document.getElementsByTagName(\"head\")[0].appendChild(s);\n      });\n    }\n\n    function showError(err) {\n      outputDiv.innerHTML = `<div class=\"error\" style=\"color:red;\">${err}</div>`;\n      throw err;\n    }\n\n    function displayChart(vegaEmbed) {\n      vegaEmbed(outputDiv, spec, embedOpt)\n        .catch(err => showError(`Javascript Error: ${err.message}<br>This usually means there's a typo in your chart specification. See the javascript console for the full traceback.`));\n    }\n\n    if(typeof define === \"function\" && define.amd) {\n      requirejs.config({paths});\n      require([\"vega-embed\"], displayChart, err => showError(`Error loading script: ${err.message}`));\n    } else if (typeof vegaEmbed === \"function\") {\n      displayChart(vegaEmbed);\n    } else {\n      loadScript(\"vega\")\n        .then(() => loadScript(\"vega-lite\"))\n        .then(() => loadScript(\"vega-embed\"))\n        .catch(showError)\n        .then(() => displayChart(vegaEmbed));\n    }\n  })({\"config\": {\"view\": {\"continuousWidth\": 400, \"continuousHeight\": 300, \"strokeWidth\": 0}, \"axis\": {\"grid\": false, \"title\": null}}, \"layer\": [{\"data\": {\"name\": \"data-0261fe0365d862169148da1217b80e3b\"}, \"mark\": \"rect\", \"encoding\": {\"color\": {\"value\": \"lightgray\"}, \"x\": {\"type\": \"temporal\", \"field\": \"start\"}, \"x2\": {\"field\": \"end\"}}}, {\"data\": {\"name\": \"data-772d3ea31fdfeb4dc391b201dfd5bda6\"}, \"mark\": {\"type\": \"area\", \"fill\": \"red\", \"fillOpacity\": 0.5, \"interpolate\": \"step-after\", \"line\": true}, \"encoding\": {\"color\": {\"value\": \"red\"}, \"x\": {\"type\": \"temporal\", \"field\": \"date\"}, \"y\": {\"type\": \"quantitative\", \"field\": \"deaths_perday\"}}, \"height\": 150, \"width\": 700}], \"$schema\": \"https://vega.github.io/schema/vega-lite/v4.8.1.json\", \"datasets\": {\"data-0261fe0365d862169148da1217b80e3b\": [{\"start\": \"2020-03-25\", \"end\": \"2020-04-22\", \"event\": \"Stay at Home\"}], \"data-772d3ea31fdfeb4dc391b201dfd5bda6\": [{\"date\": \"2020-03-10\", \"state\": \"Michigan\", \"fips\": 26, \"cases\": 2, \"deaths\": 0, \"deaths_perday\": null}, {\"date\": \"2020-03-11\", \"state\": \"Michigan\", \"fips\": 26, \"cases\": 2, \"deaths\": 0, \"deaths_perday\": 0.0}, {\"date\": \"2020-03-12\", \"state\": \"Michigan\", \"fips\": 26, \"cases\": 12, \"deaths\": 0, \"deaths_perday\": 0.0}, {\"date\": \"2020-03-13\", \"state\": \"Michigan\", \"fips\": 26, \"cases\": 25, \"deaths\": 0, \"deaths_perday\": 0.0}, {\"date\": \"2020-03-14\", \"state\": \"Michigan\", \"fips\": 26, \"cases\": 33, \"deaths\": 0, \"deaths_perday\": 0.0}, {\"date\": \"2020-03-15\", \"state\": \"Michigan\", \"fips\": 26, \"cases\": 53, \"deaths\": 0, \"deaths_perday\": 0.0}, {\"date\": \"2020-03-16\", \"state\": \"Michigan\", \"fips\": 26, \"cases\": 54, \"deaths\": 0, \"deaths_perday\": 0.0}, {\"date\": \"2020-03-17\", \"state\": \"Michigan\", \"fips\": 26, \"cases\": 65, \"deaths\": 0, \"deaths_perday\": 0.0}, {\"date\": \"2020-03-18\", \"state\": \"Michigan\", \"fips\": 26, \"cases\": 80, \"deaths\": 1, \"deaths_perday\": 1.0}, {\"date\": \"2020-03-19\", \"state\": \"Michigan\", \"fips\": 26, \"cases\": 334, \"deaths\": 3, \"deaths_perday\": 2.0}, {\"date\": \"2020-03-20\", \"state\": \"Michigan\", \"fips\": 26, \"cases\": 548, \"deaths\": 4, \"deaths_perday\": 1.0}, {\"date\": \"2020-03-21\", \"state\": \"Michigan\", \"fips\": 26, \"cases\": 787, \"deaths\": 6, \"deaths_perday\": 2.0}, {\"date\": \"2020-03-22\", \"state\": \"Michigan\", \"fips\": 26, \"cases\": 1033, \"deaths\": 9, \"deaths_perday\": 3.0}, {\"date\": \"2020-03-23\", \"state\": \"Michigan\", \"fips\": 26, \"cases\": 1324, \"deaths\": 16, \"deaths_perday\": 7.0}, {\"date\": \"2020-03-24\", \"state\": \"Michigan\", \"fips\": 26, \"cases\": 1791, \"deaths\": 24, \"deaths_perday\": 8.0}, {\"date\": \"2020-03-25\", \"state\": \"Michigan\", \"fips\": 26, \"cases\": 2293, \"deaths\": 43, \"deaths_perday\": 19.0}, {\"date\": \"2020-03-26\", \"state\": \"Michigan\", \"fips\": 26, \"cases\": 2877, \"deaths\": 63, \"deaths_perday\": 20.0}, {\"date\": \"2020-03-27\", \"state\": \"Michigan\", \"fips\": 26, \"cases\": 3655, \"deaths\": 93, \"deaths_perday\": 30.0}, {\"date\": \"2020-03-28\", \"state\": \"Michigan\", \"fips\": 26, \"cases\": 4634, \"deaths\": 112, \"deaths_perday\": 19.0}, {\"date\": \"2020-03-29\", \"state\": \"Michigan\", \"fips\": 26, \"cases\": 5486, \"deaths\": 132, \"deaths_perday\": 20.0}, {\"date\": \"2020-03-30\", \"state\": \"Michigan\", \"fips\": 26, \"cases\": 6508, \"deaths\": 197, \"deaths_perday\": 65.0}, {\"date\": \"2020-03-31\", \"state\": \"Michigan\", \"fips\": 26, \"cases\": 7629, \"deaths\": 264, \"deaths_perday\": 67.0}, {\"date\": \"2020-04-01\", \"state\": \"Michigan\", \"fips\": 26, \"cases\": 9292, \"deaths\": 336, \"deaths_perday\": 72.0}, {\"date\": \"2020-04-02\", \"state\": \"Michigan\", \"fips\": 26, \"cases\": 10791, \"deaths\": 417, \"deaths_perday\": 81.0}, {\"date\": \"2020-04-03\", \"state\": \"Michigan\", \"fips\": 26, \"cases\": 12669, \"deaths\": 478, \"deaths_perday\": 61.0}, {\"date\": \"2020-04-04\", \"state\": \"Michigan\", \"fips\": 26, \"cases\": 14225, \"deaths\": 541, \"deaths_perday\": 63.0}, {\"date\": \"2020-04-05\", \"state\": \"Michigan\", \"fips\": 26, \"cases\": 15633, \"deaths\": 617, \"deaths_perday\": 76.0}, {\"date\": \"2020-04-06\", \"state\": \"Michigan\", \"fips\": 26, \"cases\": 17129, \"deaths\": 727, \"deaths_perday\": 110.0}, {\"date\": \"2020-04-07\", \"state\": \"Michigan\", \"fips\": 26, \"cases\": 18851, \"deaths\": 845, \"deaths_perday\": 118.0}, {\"date\": \"2020-04-08\", \"state\": \"Michigan\", \"fips\": 26, \"cases\": 20220, \"deaths\": 959, \"deaths_perday\": 114.0}, {\"date\": \"2020-04-09\", \"state\": \"Michigan\", \"fips\": 26, \"cases\": 21375, \"deaths\": 1076, \"deaths_perday\": 117.0}, {\"date\": \"2020-04-10\", \"state\": \"Michigan\", \"fips\": 26, \"cases\": 22646, \"deaths\": 1280, \"deaths_perday\": 204.0}, {\"date\": \"2020-04-11\", \"state\": \"Michigan\", \"fips\": 26, \"cases\": 23855, \"deaths\": 1395, \"deaths_perday\": 115.0}, {\"date\": \"2020-04-12\", \"state\": \"Michigan\", \"fips\": 26, \"cases\": 24496, \"deaths\": 1488, \"deaths_perday\": 93.0}, {\"date\": \"2020-04-13\", \"state\": \"Michigan\", \"fips\": 26, \"cases\": 25490, \"deaths\": 1603, \"deaths_perday\": 115.0}, {\"date\": \"2020-04-14\", \"state\": \"Michigan\", \"fips\": 26, \"cases\": 26845, \"deaths\": 1767, \"deaths_perday\": 164.0}, {\"date\": \"2020-04-15\", \"state\": \"Michigan\", \"fips\": 26, \"cases\": 27894, \"deaths\": 1920, \"deaths_perday\": 153.0}, {\"date\": \"2020-04-16\", \"state\": \"Michigan\", \"fips\": 26, \"cases\": 29120, \"deaths\": 2092, \"deaths_perday\": 172.0}, {\"date\": \"2020-04-17\", \"state\": \"Michigan\", \"fips\": 26, \"cases\": 29954, \"deaths\": 2227, \"deaths_perday\": 135.0}, {\"date\": \"2020-04-18\", \"state\": \"Michigan\", \"fips\": 26, \"cases\": 30718, \"deaths\": 2307, \"deaths_perday\": 80.0}, {\"date\": \"2020-04-19\", \"state\": \"Michigan\", \"fips\": 26, \"cases\": 31349, \"deaths\": 2389, \"deaths_perday\": 82.0}, {\"date\": \"2020-04-20\", \"state\": \"Michigan\", \"fips\": 26, \"cases\": 31929, \"deaths\": 2466, \"deaths_perday\": 77.0}, {\"date\": \"2020-04-21\", \"state\": \"Michigan\", \"fips\": 26, \"cases\": 32936, \"deaths\": 2698, \"deaths_perday\": 232.0}, {\"date\": \"2020-04-22\", \"state\": \"Michigan\", \"fips\": 26, \"cases\": 33973, \"deaths\": 2813, \"deaths_perday\": 115.0}]}}, {\"actions\": false, \"mode\": \"vega-lite\"});\n</script>",
      "text/plain": [
       "alt.LayerChart(...)"
      ]
     },
     "metadata": {},
     "execution_count": 5
    }
   ],
   "source": [
    "# collapse\n",
    "chart = alt.Chart(michdf).mark_area(fill='red', fillOpacity=0.5, line=True, interpolate='step-after',).encode(\n",
    "    x='date:T',\n",
    "    y='deaths_perday:Q',\n",
    "    color=alt.value('red') # Exceptional Case, bug in Vega or Vega Lite - https://stackoverflow.com/questions/62005052/how-do-i-change-the-line-color-in-altairs-filled-step-chart\n",
    "    \n",
    ").properties(height=150, width=700)\n",
    "\n",
    "source2 = [{\n",
    "            \"start\": \"2020-03-25\",\n",
    "            \"end\": michdf['date'].max(),\n",
    "            \"event\": \"Stay at Home\"\n",
    "          }]\n",
    "source2 = alt.pd.DataFrame(source2)\n",
    "\n",
    "rect = alt.Chart(source2).mark_rect().encode(\n",
    "    x =  'start:T',\n",
    "    x2 = 'end:T',\n",
    "    color=alt.value('lightgray')\n",
    ")\n",
    "\n",
    "(rect+chart).configure_view(\n",
    "    strokeWidth=0\n",
    ").configure_axis(\n",
    "    grid=False,\n",
    "    title=None\n",
    ")\n"
   ]
  },
  {
   "cell_type": "markdown",
   "metadata": {},
   "source": [
    "The visualization till the latest date for NY would look like the following -"
   ]
  },
  {
   "cell_type": "code",
   "execution_count": 10,
   "metadata": {},
   "outputs": [
    {
     "output_type": "execute_result",
     "data": {
      "text/html": "\n<div id=\"altair-viz-e29fc1b95e0a4404a18bd184f5c00ff0\"></div>\n<script type=\"text/javascript\">\n  (function(spec, embedOpt){\n    let outputDiv = document.currentScript.previousElementSibling;\n    if (outputDiv.id !== \"altair-viz-e29fc1b95e0a4404a18bd184f5c00ff0\") {\n      outputDiv = document.getElementById(\"altair-viz-e29fc1b95e0a4404a18bd184f5c00ff0\");\n    }\n    const paths = {\n      \"vega\": \"https://cdn.jsdelivr.net/npm//vega@5?noext\",\n      \"vega-lib\": \"https://cdn.jsdelivr.net/npm//vega-lib?noext\",\n      \"vega-lite\": \"https://cdn.jsdelivr.net/npm//vega-lite@4.8.1?noext\",\n      \"vega-embed\": \"https://cdn.jsdelivr.net/npm//vega-embed@6?noext\",\n    };\n\n    function loadScript(lib) {\n      return new Promise(function(resolve, reject) {\n        var s = document.createElement('script');\n        s.src = paths[lib];\n        s.async = true;\n        s.onload = () => resolve(paths[lib]);\n        s.onerror = () => reject(`Error loading script: ${paths[lib]}`);\n        document.getElementsByTagName(\"head\")[0].appendChild(s);\n      });\n    }\n\n    function showError(err) {\n      outputDiv.innerHTML = `<div class=\"error\" style=\"color:red;\">${err}</div>`;\n      throw err;\n    }\n\n    function displayChart(vegaEmbed) {\n      vegaEmbed(outputDiv, spec, embedOpt)\n        .catch(err => showError(`Javascript Error: ${err.message}<br>This usually means there's a typo in your chart specification. See the javascript console for the full traceback.`));\n    }\n\n    if(typeof define === \"function\" && define.amd) {\n      requirejs.config({paths});\n      require([\"vega-embed\"], displayChart, err => showError(`Error loading script: ${err.message}`));\n    } else if (typeof vegaEmbed === \"function\") {\n      displayChart(vegaEmbed);\n    } else {\n      loadScript(\"vega\")\n        .then(() => loadScript(\"vega-lite\"))\n        .then(() => loadScript(\"vega-embed\"))\n        .catch(showError)\n        .then(() => displayChart(vegaEmbed));\n    }\n  })({\"config\": {\"view\": {\"continuousWidth\": 400, \"continuousHeight\": 300, \"strokeWidth\": 0}, \"axis\": {\"grid\": false, \"title\": null}}, \"layer\": [{\"data\": {\"name\": \"data-4ab6149461dded1267614176cd00878b\"}, \"mark\": \"rect\", \"encoding\": {\"color\": {\"value\": \"lightgray\"}, \"x\": {\"type\": \"temporal\", \"field\": \"start\"}, \"x2\": {\"field\": \"end\"}}}, {\"data\": {\"name\": \"data-79136af16ed6d56921be28f902b78118\"}, \"mark\": {\"type\": \"area\", \"fill\": \"red\", \"fillOpacity\": 0.5, \"interpolate\": \"step-after\", \"line\": true}, \"encoding\": {\"color\": {\"value\": \"red\"}, \"x\": {\"type\": \"temporal\", \"field\": \"date\"}, \"y\": {\"type\": \"quantitative\", \"field\": \"deaths_perday\"}}, \"height\": 250, \"width\": 700}], \"$schema\": \"https://vega.github.io/schema/vega-lite/v4.8.1.json\", \"datasets\": {\"data-4ab6149461dded1267614176cd00878b\": [{\"start\": \"2020-03-23\", \"end\": \"2020-05-31\", \"event\": \"Stay at Home\"}], \"data-79136af16ed6d56921be28f902b78118\": [{\"date\": \"2020-03-01\", \"state\": \"New York\", \"fips\": 36, \"cases\": 1, \"deaths\": 0, \"deaths_perday\": null}, {\"date\": \"2020-03-02\", \"state\": \"New York\", \"fips\": 36, \"cases\": 1, \"deaths\": 0, \"deaths_perday\": 0.0}, {\"date\": \"2020-03-03\", \"state\": \"New York\", \"fips\": 36, \"cases\": 2, \"deaths\": 0, \"deaths_perday\": 0.0}, {\"date\": \"2020-03-04\", \"state\": \"New York\", \"fips\": 36, \"cases\": 11, \"deaths\": 0, \"deaths_perday\": 0.0}, {\"date\": \"2020-03-05\", \"state\": \"New York\", \"fips\": 36, \"cases\": 22, \"deaths\": 0, \"deaths_perday\": 0.0}, {\"date\": \"2020-03-06\", \"state\": \"New York\", \"fips\": 36, \"cases\": 44, \"deaths\": 0, \"deaths_perday\": 0.0}, {\"date\": \"2020-03-07\", \"state\": \"New York\", \"fips\": 36, \"cases\": 89, \"deaths\": 0, \"deaths_perday\": 0.0}, {\"date\": \"2020-03-08\", \"state\": \"New York\", \"fips\": 36, \"cases\": 106, \"deaths\": 0, \"deaths_perday\": 0.0}, {\"date\": \"2020-03-09\", \"state\": \"New York\", \"fips\": 36, \"cases\": 142, \"deaths\": 0, \"deaths_perday\": 0.0}, {\"date\": \"2020-03-10\", \"state\": \"New York\", \"fips\": 36, \"cases\": 173, \"deaths\": 0, \"deaths_perday\": 0.0}, {\"date\": \"2020-03-11\", \"state\": \"New York\", \"fips\": 36, \"cases\": 217, \"deaths\": 0, \"deaths_perday\": 0.0}, {\"date\": \"2020-03-12\", \"state\": \"New York\", \"fips\": 36, \"cases\": 326, \"deaths\": 0, \"deaths_perday\": 0.0}, {\"date\": \"2020-03-13\", \"state\": \"New York\", \"fips\": 36, \"cases\": 421, \"deaths\": 0, \"deaths_perday\": 0.0}, {\"date\": \"2020-03-14\", \"state\": \"New York\", \"fips\": 36, \"cases\": 610, \"deaths\": 2, \"deaths_perday\": 2.0}, {\"date\": \"2020-03-15\", \"state\": \"New York\", \"fips\": 36, \"cases\": 732, \"deaths\": 6, \"deaths_perday\": 4.0}, {\"date\": \"2020-03-16\", \"state\": \"New York\", \"fips\": 36, \"cases\": 950, \"deaths\": 10, \"deaths_perday\": 4.0}, {\"date\": \"2020-03-17\", \"state\": \"New York\", \"fips\": 36, \"cases\": 1375, \"deaths\": 18, \"deaths_perday\": 8.0}, {\"date\": \"2020-03-18\", \"state\": \"New York\", \"fips\": 36, \"cases\": 2387, \"deaths\": 32, \"deaths_perday\": 14.0}, {\"date\": \"2020-03-19\", \"state\": \"New York\", \"fips\": 36, \"cases\": 4161, \"deaths\": 39, \"deaths_perday\": 7.0}, {\"date\": \"2020-03-20\", \"state\": \"New York\", \"fips\": 36, \"cases\": 7113, \"deaths\": 68, \"deaths_perday\": 29.0}, {\"date\": \"2020-03-21\", \"state\": \"New York\", \"fips\": 36, \"cases\": 10371, \"deaths\": 95, \"deaths_perday\": 27.0}, {\"date\": \"2020-03-22\", \"state\": \"New York\", \"fips\": 36, \"cases\": 15188, \"deaths\": 142, \"deaths_perday\": 47.0}, {\"date\": \"2020-03-23\", \"state\": \"New York\", \"fips\": 36, \"cases\": 20899, \"deaths\": 183, \"deaths_perday\": 41.0}, {\"date\": \"2020-03-24\", \"state\": \"New York\", \"fips\": 36, \"cases\": 25704, \"deaths\": 264, \"deaths_perday\": 81.0}, {\"date\": \"2020-03-25\", \"state\": \"New York\", \"fips\": 36, \"cases\": 33117, \"deaths\": 381, \"deaths_perday\": 117.0}, {\"date\": \"2020-03-26\", \"state\": \"New York\", \"fips\": 36, \"cases\": 39058, \"deaths\": 502, \"deaths_perday\": 121.0}, {\"date\": \"2020-03-27\", \"state\": \"New York\", \"fips\": 36, \"cases\": 44746, \"deaths\": 645, \"deaths_perday\": 143.0}, {\"date\": \"2020-03-28\", \"state\": \"New York\", \"fips\": 36, \"cases\": 53517, \"deaths\": 935, \"deaths_perday\": 290.0}, {\"date\": \"2020-03-29\", \"state\": \"New York\", \"fips\": 36, \"cases\": 59783, \"deaths\": 1180, \"deaths_perday\": 245.0}, {\"date\": \"2020-03-30\", \"state\": \"New York\", \"fips\": 36, \"cases\": 67504, \"deaths\": 1512, \"deaths_perday\": 332.0}, {\"date\": \"2020-03-31\", \"state\": \"New York\", \"fips\": 36, \"cases\": 76211, \"deaths\": 1929, \"deaths_perday\": 417.0}, {\"date\": \"2020-04-01\", \"state\": \"New York\", \"fips\": 36, \"cases\": 84364, \"deaths\": 2415, \"deaths_perday\": 486.0}, {\"date\": \"2020-04-02\", \"state\": \"New York\", \"fips\": 36, \"cases\": 93360, \"deaths\": 2963, \"deaths_perday\": 548.0}, {\"date\": \"2020-04-03\", \"state\": \"New York\", \"fips\": 36, \"cases\": 103689, \"deaths\": 3716, \"deaths_perday\": 753.0}, {\"date\": \"2020-04-04\", \"state\": \"New York\", \"fips\": 36, \"cases\": 115963, \"deaths\": 4535, \"deaths_perday\": 819.0}, {\"date\": \"2020-04-05\", \"state\": \"New York\", \"fips\": 36, \"cases\": 124085, \"deaths\": 5335, \"deaths_perday\": 800.0}, {\"date\": \"2020-04-06\", \"state\": \"New York\", \"fips\": 36, \"cases\": 133389, \"deaths\": 6149, \"deaths_perday\": 814.0}, {\"date\": \"2020-04-07\", \"state\": \"New York\", \"fips\": 36, \"cases\": 141703, \"deaths\": 7185, \"deaths_perday\": 1036.0}, {\"date\": \"2020-04-08\", \"state\": \"New York\", \"fips\": 36, \"cases\": 151271, \"deaths\": 8138, \"deaths_perday\": 953.0}, {\"date\": \"2020-04-09\", \"state\": \"New York\", \"fips\": 36, \"cases\": 162036, \"deaths\": 9166, \"deaths_perday\": 1028.0}, {\"date\": \"2020-04-10\", \"state\": \"New York\", \"fips\": 36, \"cases\": 172830, \"deaths\": 10162, \"deaths_perday\": 996.0}, {\"date\": \"2020-04-11\", \"state\": \"New York\", \"fips\": 36, \"cases\": 182990, \"deaths\": 11159, \"deaths_perday\": 997.0}, {\"date\": \"2020-04-12\", \"state\": \"New York\", \"fips\": 36, \"cases\": 191425, \"deaths\": 12116, \"deaths_perday\": 957.0}, {\"date\": \"2020-04-13\", \"state\": \"New York\", \"fips\": 36, \"cases\": 197973, \"deaths\": 12998, \"deaths_perday\": 882.0}, {\"date\": \"2020-04-14\", \"state\": \"New York\", \"fips\": 36, \"cases\": 205375, \"deaths\": 14001, \"deaths_perday\": 1003.0}, {\"date\": \"2020-04-15\", \"state\": \"New York\", \"fips\": 36, \"cases\": 217130, \"deaths\": 14937, \"deaths_perday\": 936.0}, {\"date\": \"2020-04-16\", \"state\": \"New York\", \"fips\": 36, \"cases\": 225761, \"deaths\": 15669, \"deaths_perday\": 732.0}, {\"date\": \"2020-04-17\", \"state\": \"New York\", \"fips\": 36, \"cases\": 233293, \"deaths\": 16473, \"deaths_perday\": 804.0}, {\"date\": \"2020-04-18\", \"state\": \"New York\", \"fips\": 36, \"cases\": 240542, \"deaths\": 17141, \"deaths_perday\": 668.0}, {\"date\": \"2020-04-19\", \"state\": \"New York\", \"fips\": 36, \"cases\": 246741, \"deaths\": 17793, \"deaths_perday\": 652.0}, {\"date\": \"2020-04-20\", \"state\": \"New York\", \"fips\": 36, \"cases\": 251608, \"deaths\": 18412, \"deaths_perday\": 619.0}, {\"date\": \"2020-04-21\", \"state\": \"New York\", \"fips\": 36, \"cases\": 255932, \"deaths\": 19040, \"deaths_perday\": 628.0}, {\"date\": \"2020-04-22\", \"state\": \"New York\", \"fips\": 36, \"cases\": 261591, \"deaths\": 19647, \"deaths_perday\": 607.0}, {\"date\": \"2020-04-23\", \"state\": \"New York\", \"fips\": 36, \"cases\": 267932, \"deaths\": 20212, \"deaths_perday\": 565.0}, {\"date\": \"2020-04-24\", \"state\": \"New York\", \"fips\": 36, \"cases\": 276218, \"deaths\": 20759, \"deaths_perday\": 547.0}, {\"date\": \"2020-04-25\", \"state\": \"New York\", \"fips\": 36, \"cases\": 286901, \"deaths\": 21326, \"deaths_perday\": 567.0}, {\"date\": \"2020-04-26\", \"state\": \"New York\", \"fips\": 36, \"cases\": 292914, \"deaths\": 21804, \"deaths_perday\": 478.0}, {\"date\": \"2020-04-27\", \"state\": \"New York\", \"fips\": 36, \"cases\": 296991, \"deaths\": 22267, \"deaths_perday\": 463.0}, {\"date\": \"2020-04-28\", \"state\": \"New York\", \"fips\": 36, \"cases\": 300276, \"deaths\": 22777, \"deaths_perday\": 510.0}, {\"date\": \"2020-04-29\", \"state\": \"New York\", \"fips\": 36, \"cases\": 304994, \"deaths\": 23287, \"deaths_perday\": 510.0}, {\"date\": \"2020-04-30\", \"state\": \"New York\", \"fips\": 36, \"cases\": 309696, \"deaths\": 23616, \"deaths_perday\": 329.0}, {\"date\": \"2020-05-01\", \"state\": \"New York\", \"fips\": 36, \"cases\": 313575, \"deaths\": 23841, \"deaths_perday\": 225.0}, {\"date\": \"2020-05-02\", \"state\": \"New York\", \"fips\": 36, \"cases\": 318134, \"deaths\": 24035, \"deaths_perday\": 194.0}, {\"date\": \"2020-05-03\", \"state\": \"New York\", \"fips\": 36, \"cases\": 321833, \"deaths\": 24576, \"deaths_perday\": 541.0}, {\"date\": \"2020-05-04\", \"state\": \"New York\", \"fips\": 36, \"cases\": 324357, \"deaths\": 24788, \"deaths_perday\": 212.0}, {\"date\": \"2020-05-05\", \"state\": \"New York\", \"fips\": 36, \"cases\": 326659, \"deaths\": 25028, \"deaths_perday\": 240.0}, {\"date\": \"2020-05-06\", \"state\": \"New York\", \"fips\": 36, \"cases\": 329405, \"deaths\": 25956, \"deaths_perday\": 928.0}, {\"date\": \"2020-05-07\", \"state\": \"New York\", \"fips\": 36, \"cases\": 332931, \"deaths\": 26206, \"deaths_perday\": 250.0}, {\"date\": \"2020-05-08\", \"state\": \"New York\", \"fips\": 36, \"cases\": 335804, \"deaths\": 26358, \"deaths_perday\": 152.0}, {\"date\": \"2020-05-09\", \"state\": \"New York\", \"fips\": 36, \"cases\": 338519, \"deaths\": 26584, \"deaths_perday\": 226.0}, {\"date\": \"2020-05-10\", \"state\": \"New York\", \"fips\": 36, \"cases\": 340657, \"deaths\": 26798, \"deaths_perday\": 214.0}, {\"date\": \"2020-05-11\", \"state\": \"New York\", \"fips\": 36, \"cases\": 342267, \"deaths\": 27003, \"deaths_perday\": 205.0}, {\"date\": \"2020-05-12\", \"state\": \"New York\", \"fips\": 36, \"cases\": 343705, \"deaths\": 27282, \"deaths_perday\": 279.0}, {\"date\": \"2020-05-13\", \"state\": \"New York\", \"fips\": 36, \"cases\": 345828, \"deaths\": 27448, \"deaths_perday\": 166.0}, {\"date\": \"2020-05-14\", \"state\": \"New York\", \"fips\": 36, \"cases\": 348192, \"deaths\": 27617, \"deaths_perday\": 169.0}, {\"date\": \"2020-05-15\", \"state\": \"New York\", \"fips\": 36, \"cases\": 350951, \"deaths\": 27755, \"deaths_perday\": 138.0}, {\"date\": \"2020-05-16\", \"state\": \"New York\", \"fips\": 36, \"cases\": 353136, \"deaths\": 27953, \"deaths_perday\": 198.0}, {\"date\": \"2020-05-17\", \"state\": \"New York\", \"fips\": 36, \"cases\": 355037, \"deaths\": 28168, \"deaths_perday\": 215.0}, {\"date\": \"2020-05-18\", \"state\": \"New York\", \"fips\": 36, \"cases\": 356278, \"deaths\": 28302, \"deaths_perday\": 134.0}, {\"date\": \"2020-05-19\", \"state\": \"New York\", \"fips\": 36, \"cases\": 357757, \"deaths\": 28437, \"deaths_perday\": 135.0}, {\"date\": \"2020-05-20\", \"state\": \"New York\", \"fips\": 36, \"cases\": 359235, \"deaths\": 28540, \"deaths_perday\": 103.0}, {\"date\": \"2020-05-21\", \"state\": \"New York\", \"fips\": 36, \"cases\": 361313, \"deaths\": 28663, \"deaths_perday\": 123.0}, {\"date\": \"2020-05-22\", \"state\": \"New York\", \"fips\": 36, \"cases\": 362991, \"deaths\": 28802, \"deaths_perday\": 139.0}, {\"date\": \"2020-05-23\", \"state\": \"New York\", \"fips\": 36, \"cases\": 364745, \"deaths\": 28900, \"deaths_perday\": 98.0}, {\"date\": \"2020-05-24\", \"state\": \"New York\", \"fips\": 36, \"cases\": 366346, \"deaths\": 29046, \"deaths_perday\": 146.0}, {\"date\": \"2020-05-25\", \"state\": \"New York\", \"fips\": 36, \"cases\": 367625, \"deaths\": 29138, \"deaths_perday\": 92.0}, {\"date\": \"2020-05-26\", \"state\": \"New York\", \"fips\": 36, \"cases\": 368669, \"deaths\": 29241, \"deaths_perday\": 103.0}, {\"date\": \"2020-05-27\", \"state\": \"New York\", \"fips\": 36, \"cases\": 369801, \"deaths\": 29339, \"deaths_perday\": 98.0}, {\"date\": \"2020-05-28\", \"state\": \"New York\", \"fips\": 36, \"cases\": 371559, \"deaths\": 29438, \"deaths_perday\": 99.0}, {\"date\": \"2020-05-29\", \"state\": \"New York\", \"fips\": 36, \"cases\": 373108, \"deaths\": 29535, \"deaths_perday\": 97.0}, {\"date\": \"2020-05-30\", \"state\": \"New York\", \"fips\": 36, \"cases\": 374471, \"deaths\": 29612, \"deaths_perday\": 77.0}, {\"date\": \"2020-05-31\", \"state\": \"New York\", \"fips\": 36, \"cases\": 375575, \"deaths\": 29699, \"deaths_perday\": 87.0}]}}, {\"actions\": false, \"mode\": \"vega-lite\"});\n</script>",
      "text/plain": [
       "alt.LayerChart(...)"
      ]
     },
     "metadata": {},
     "execution_count": 10
    }
   ],
   "source": [
    "# collapse\n",
    "nydf = usdf[(usdf['state'] == \"New York\")]\n",
    "nydf['deaths_perday'] = nydf['deaths'].diff()\n",
    "nydf = nydf[nydf['date'] <= '2020-05-31']\n",
    "\n",
    "chart = alt.Chart(nydf).mark_area(fill='red', fillOpacity=0.5, line=True, interpolate='step-after',).encode(\n",
    "    x='date:T',\n",
    "    y='deaths_perday:Q',\n",
    "    color=alt.value('red') # Exceptional Case, bug in Vega or Vega Lite - https://stackoverflow.com/questions/62005052/how-do-i-change-the-line-color-in-altairs-filled-step-chart\n",
    "    \n",
    ").properties(height=250, width=700)\n",
    "\n",
    "source2 = [{\n",
    "            \"start\": \"2020-03-23\",\n",
    "            \"end\": nydf['date'].max(),\n",
    "            \"event\": \"Stay at Home\"\n",
    "          }]\n",
    "source2 = alt.pd.DataFrame(source2)\n",
    "\n",
    "rect = alt.Chart(source2).mark_rect().encode(\n",
    "    x =  'start:T',\n",
    "    x2 = 'end:T',\n",
    "    color=alt.value('lightgray')\n",
    ")\n",
    "(rect+chart).configure_view(\n",
    "    strokeWidth=0\n",
    ").configure_axis(\n",
    "    grid=False,\n",
    "    title=None\n",
    ")"
   ]
  }
 ],
 "metadata": {
  "language_info": {
   "codemirror_mode": {
    "name": "ipython",
    "version": 3
   },
   "file_extension": ".py",
   "mimetype": "text/x-python",
   "name": "python",
   "nbconvert_exporter": "python",
   "pygments_lexer": "ipython3",
   "version": "3.8.5-final"
  },
  "orig_nbformat": 2,
  "kernelspec": {
   "name": "python36964bit8df6c5b502f1432ab396e065781ec007",
   "display_name": "Python 3.6.9 64-bit"
  }
 },
 "nbformat": 4,
 "nbformat_minor": 2
}