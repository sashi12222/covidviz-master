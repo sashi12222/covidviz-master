{
 "cells": [
  {
   "source": [
    "# Mobility across US\n",
    "> Faceted median mobility of states as a Ridgeline Plot\n",
    "\n",
    "- toc: false\n",
    "- comments: true\n",
    "- image: images/mobility.gif\n",
    "- hide: false\n",
    "- search_exclude: false\n",
    "- categories: [mobility, interactive, Axios]\n",
    "- author: Shantam Raj\n",
    "- badges: true"
   ],
   "cell_type": "markdown",
   "metadata": {}
  },
  {
   "source": [
    "Today we will make a graph that I just love - [Ridgeline Plots](https://www.data-to-viz.com/graph/ridgeline.html). We will visualize the median mobility across US states as they appeared in the article by Axios : [How the coronavirus pandemic changed mobility habits, by state](https://www.axios.com/coronavirus-mobility-habits-by-state-272d3405-4c6b-4cdb-9ee2-fe8074b657d3.html)\n",
    "\n",
    "![Mobility](images/mobility.gif)"
   ],
   "cell_type": "markdown",
   "metadata": {}
  },
  {
   "source": [
    "The data comes from [Descartes Lab's](https://www.descarteslabs.com/mobility/) [GitHub Repository](https://github.com/descarteslabs/DL-COVID-19)\n",
    "\n",
    "<!-- https://www.descarteslabs.com/wp-content/uploads/2020/03/mobility-v097.pdf\n",
    "- https://static1.squarespace.com/static/56086d00e4b0fb7874bc2d42/t/5ebf201183c6f016ca3abd91/1589583893816/DemographicCovid.pdf -->"
   ],
   "cell_type": "markdown",
   "metadata": {}
  },
  {
   "cell_type": "code",
   "execution_count": 16,
   "metadata": {},
   "outputs": [
    {
     "output_type": "execute_result",
     "data": {
      "text/plain": [
       "RendererRegistry.enable('default')"
      ]
     },
     "metadata": {},
     "execution_count": 16
    }
   ],
   "source": [
    "import altair as alt\n",
    "import pandas as pd\n",
    "mobility_uri = 'https://raw.githubusercontent.com/descarteslabs/DL-COVID-19/master/DL-us-mobility-daterow.csv'\n",
    "alt.renderers.set_embed_options(actions=False)"
   ]
  },
  {
   "cell_type": "code",
   "execution_count": 3,
   "metadata": {},
   "outputs": [
    {
     "output_type": "stream",
     "name": "stdout",
     "text": [
      "<class 'pandas.core.frame.DataFrame'>\nRangeIndex: 631087 entries, 0 to 631086\nData columns (total 9 columns):\n #   Column        Non-Null Count   Dtype  \n---  ------        --------------   -----  \n 0   date          631087 non-null  object \n 1   country_code  631087 non-null  object \n 2   admin_level   631087 non-null  int64  \n 3   admin1        630854 non-null  object \n 4   admin2        618971 non-null  object \n 5   fips          630854 non-null  float64\n 6   samples       631087 non-null  int64  \n 7   m50           631087 non-null  float64\n 8   m50_index     631087 non-null  int64  \ndtypes: float64(2), int64(3), object(4)\nmemory usage: 43.3+ MB\n"
     ]
    }
   ],
   "source": [
    "mobility = pd.read_csv(mobility_uri)\n",
    "mobility.info()"
   ]
  },
  {
   "cell_type": "code",
   "execution_count": 3,
   "metadata": {
    "tags": []
   },
   "outputs": [
    {
     "output_type": "stream",
     "name": "stdout",
     "text": [
      "<class 'pandas.core.frame.DataFrame'>\nRangeIndex: 628366 entries, 0 to 628365\nData columns (total 9 columns):\n #   Column        Non-Null Count   Dtype  \n---  ------        --------------   -----  \n 0   date          628366 non-null  object \n 1   country_code  628366 non-null  object \n 2   admin_level   628366 non-null  int64  \n 3   admin1        628134 non-null  object \n 4   admin2        616302 non-null  object \n 5   fips          628134 non-null  float64\n 6   samples       628366 non-null  int64  \n 7   m50           628366 non-null  float64\n 8   m50_index     628366 non-null  int64  \ndtypes: float64(2), int64(3), object(4)\nmemory usage: 43.1+ MB\n"
     ]
    }
   ],
   "source": []
  },
  {
   "cell_type": "code",
   "execution_count": 4,
   "metadata": {},
   "outputs": [
    {
     "output_type": "execute_result",
     "data": {
      "text/plain": [
       "         date country_code  admin_level   admin1 admin2  fips  samples  \\\n",
       "0  2020-03-01           US            1  Alabama    NaN   1.0   133826   \n",
       "1  2020-03-02           US            1  Alabama    NaN   1.0   143632   \n",
       "2  2020-03-03           US            1  Alabama    NaN   1.0   146009   \n",
       "3  2020-03-04           US            1  Alabama    NaN   1.0   149352   \n",
       "4  2020-03-05           US            1  Alabama    NaN   1.0   144109   \n",
       "\n",
       "      m50  m50_index  \n",
       "0   8.331         79  \n",
       "1  10.398         98  \n",
       "2  10.538        100  \n",
       "3  10.144         96  \n",
       "4  10.982        104  "
      ],
      "text/html": "<div>\n<style scoped>\n    .dataframe tbody tr th:only-of-type {\n        vertical-align: middle;\n    }\n\n    .dataframe tbody tr th {\n        vertical-align: top;\n    }\n\n    .dataframe thead th {\n        text-align: right;\n    }\n</style>\n<table border=\"1\" class=\"dataframe\">\n  <thead>\n    <tr style=\"text-align: right;\">\n      <th></th>\n      <th>date</th>\n      <th>country_code</th>\n      <th>admin_level</th>\n      <th>admin1</th>\n      <th>admin2</th>\n      <th>fips</th>\n      <th>samples</th>\n      <th>m50</th>\n      <th>m50_index</th>\n    </tr>\n  </thead>\n  <tbody>\n    <tr>\n      <th>0</th>\n      <td>2020-03-01</td>\n      <td>US</td>\n      <td>1</td>\n      <td>Alabama</td>\n      <td>NaN</td>\n      <td>1.0</td>\n      <td>133826</td>\n      <td>8.331</td>\n      <td>79</td>\n    </tr>\n    <tr>\n      <th>1</th>\n      <td>2020-03-02</td>\n      <td>US</td>\n      <td>1</td>\n      <td>Alabama</td>\n      <td>NaN</td>\n      <td>1.0</td>\n      <td>143632</td>\n      <td>10.398</td>\n      <td>98</td>\n    </tr>\n    <tr>\n      <th>2</th>\n      <td>2020-03-03</td>\n      <td>US</td>\n      <td>1</td>\n      <td>Alabama</td>\n      <td>NaN</td>\n      <td>1.0</td>\n      <td>146009</td>\n      <td>10.538</td>\n      <td>100</td>\n    </tr>\n    <tr>\n      <th>3</th>\n      <td>2020-03-04</td>\n      <td>US</td>\n      <td>1</td>\n      <td>Alabama</td>\n      <td>NaN</td>\n      <td>1.0</td>\n      <td>149352</td>\n      <td>10.144</td>\n      <td>96</td>\n    </tr>\n    <tr>\n      <th>4</th>\n      <td>2020-03-05</td>\n      <td>US</td>\n      <td>1</td>\n      <td>Alabama</td>\n      <td>NaN</td>\n      <td>1.0</td>\n      <td>144109</td>\n      <td>10.982</td>\n      <td>104</td>\n    </tr>\n  </tbody>\n</table>\n</div>"
     },
     "metadata": {},
     "execution_count": 4
    }
   ],
   "source": [
    "mobility.head()"
   ]
  },
  {
   "cell_type": "code",
   "execution_count": 5,
   "metadata": {},
   "outputs": [
    {
     "output_type": "execute_result",
     "data": {
      "text/plain": [
       "         date country_code  admin_level   admin1 admin2  fips  samples  \\\n",
       "0  2020-03-01           US            1  Alabama    NaN   1.0   133826   \n",
       "1  2020-03-02           US            1  Alabama    NaN   1.0   143632   \n",
       "2  2020-03-03           US            1  Alabama    NaN   1.0   146009   \n",
       "3  2020-03-04           US            1  Alabama    NaN   1.0   149352   \n",
       "4  2020-03-05           US            1  Alabama    NaN   1.0   144109   \n",
       "\n",
       "      m50  m50_index  \n",
       "0   8.331         79  \n",
       "1  10.398         98  \n",
       "2  10.538        100  \n",
       "3  10.144         96  \n",
       "4  10.982        104  "
      ],
      "text/html": "<div>\n<style scoped>\n    .dataframe tbody tr th:only-of-type {\n        vertical-align: middle;\n    }\n\n    .dataframe tbody tr th {\n        vertical-align: top;\n    }\n\n    .dataframe thead th {\n        text-align: right;\n    }\n</style>\n<table border=\"1\" class=\"dataframe\">\n  <thead>\n    <tr style=\"text-align: right;\">\n      <th></th>\n      <th>date</th>\n      <th>country_code</th>\n      <th>admin_level</th>\n      <th>admin1</th>\n      <th>admin2</th>\n      <th>fips</th>\n      <th>samples</th>\n      <th>m50</th>\n      <th>m50_index</th>\n    </tr>\n  </thead>\n  <tbody>\n    <tr>\n      <th>0</th>\n      <td>2020-03-01</td>\n      <td>US</td>\n      <td>1</td>\n      <td>Alabama</td>\n      <td>NaN</td>\n      <td>1.0</td>\n      <td>133826</td>\n      <td>8.331</td>\n      <td>79</td>\n    </tr>\n    <tr>\n      <th>1</th>\n      <td>2020-03-02</td>\n      <td>US</td>\n      <td>1</td>\n      <td>Alabama</td>\n      <td>NaN</td>\n      <td>1.0</td>\n      <td>143632</td>\n      <td>10.398</td>\n      <td>98</td>\n    </tr>\n    <tr>\n      <th>2</th>\n      <td>2020-03-03</td>\n      <td>US</td>\n      <td>1</td>\n      <td>Alabama</td>\n      <td>NaN</td>\n      <td>1.0</td>\n      <td>146009</td>\n      <td>10.538</td>\n      <td>100</td>\n    </tr>\n    <tr>\n      <th>3</th>\n      <td>2020-03-04</td>\n      <td>US</td>\n      <td>1</td>\n      <td>Alabama</td>\n      <td>NaN</td>\n      <td>1.0</td>\n      <td>149352</td>\n      <td>10.144</td>\n      <td>96</td>\n    </tr>\n    <tr>\n      <th>4</th>\n      <td>2020-03-05</td>\n      <td>US</td>\n      <td>1</td>\n      <td>Alabama</td>\n      <td>NaN</td>\n      <td>1.0</td>\n      <td>144109</td>\n      <td>10.982</td>\n      <td>104</td>\n    </tr>\n  </tbody>\n</table>\n</div>"
     },
     "metadata": {},
     "execution_count": 5
    }
   ],
   "source": [
    "mobility_states = mobility[mobility['admin2'].isnull() & mobility['admin1'].notnull()]\n",
    "mobility_states.head()"
   ]
  },
  {
   "source": [
    "The data also contains the aggreagted median mobility for US as a country. We will filter that for our chart as we want only states -"
   ],
   "cell_type": "markdown",
   "metadata": {}
  },
  {
   "cell_type": "code",
   "execution_count": 7,
   "metadata": {},
   "outputs": [],
   "source": [
    "#mobility_states.groupby('admin1')['m50_index'].max()"
   ]
  },
  {
   "cell_type": "code",
   "execution_count": 6,
   "metadata": {},
   "outputs": [
    {
     "output_type": "execute_result",
     "data": {
      "text/plain": [
       "              date country_code  admin_level admin1 admin2  fips  samples  \\\n",
       "554459  2020-03-01           US            0    NaN    NaN   NaN  5705566   \n",
       "554460  2020-03-02           US            0    NaN    NaN   NaN  5970602   \n",
       "554461  2020-03-03           US            0    NaN    NaN   NaN  6100493   \n",
       "554462  2020-03-04           US            0    NaN    NaN   NaN  6274372   \n",
       "554463  2020-03-05           US            0    NaN    NaN   NaN  6023240   \n",
       "\n",
       "          m50  m50_index  \n",
       "554459  5.320         68  \n",
       "554460  7.789         99  \n",
       "554461  7.821        100  \n",
       "554462  7.783         99  \n",
       "554463  8.288        105  "
      ],
      "text/html": "<div>\n<style scoped>\n    .dataframe tbody tr th:only-of-type {\n        vertical-align: middle;\n    }\n\n    .dataframe tbody tr th {\n        vertical-align: top;\n    }\n\n    .dataframe thead th {\n        text-align: right;\n    }\n</style>\n<table border=\"1\" class=\"dataframe\">\n  <thead>\n    <tr style=\"text-align: right;\">\n      <th></th>\n      <th>date</th>\n      <th>country_code</th>\n      <th>admin_level</th>\n      <th>admin1</th>\n      <th>admin2</th>\n      <th>fips</th>\n      <th>samples</th>\n      <th>m50</th>\n      <th>m50_index</th>\n    </tr>\n  </thead>\n  <tbody>\n    <tr>\n      <th>554459</th>\n      <td>2020-03-01</td>\n      <td>US</td>\n      <td>0</td>\n      <td>NaN</td>\n      <td>NaN</td>\n      <td>NaN</td>\n      <td>5705566</td>\n      <td>5.320</td>\n      <td>68</td>\n    </tr>\n    <tr>\n      <th>554460</th>\n      <td>2020-03-02</td>\n      <td>US</td>\n      <td>0</td>\n      <td>NaN</td>\n      <td>NaN</td>\n      <td>NaN</td>\n      <td>5970602</td>\n      <td>7.789</td>\n      <td>99</td>\n    </tr>\n    <tr>\n      <th>554461</th>\n      <td>2020-03-03</td>\n      <td>US</td>\n      <td>0</td>\n      <td>NaN</td>\n      <td>NaN</td>\n      <td>NaN</td>\n      <td>6100493</td>\n      <td>7.821</td>\n      <td>100</td>\n    </tr>\n    <tr>\n      <th>554462</th>\n      <td>2020-03-04</td>\n      <td>US</td>\n      <td>0</td>\n      <td>NaN</td>\n      <td>NaN</td>\n      <td>NaN</td>\n      <td>6274372</td>\n      <td>7.783</td>\n      <td>99</td>\n    </tr>\n    <tr>\n      <th>554463</th>\n      <td>2020-03-05</td>\n      <td>US</td>\n      <td>0</td>\n      <td>NaN</td>\n      <td>NaN</td>\n      <td>NaN</td>\n      <td>6023240</td>\n      <td>8.288</td>\n      <td>105</td>\n    </tr>\n  </tbody>\n</table>\n</div>"
     },
     "metadata": {},
     "execution_count": 6
    }
   ],
   "source": [
    "usa_mobility = mobility[mobility['admin2'].isnull() & mobility['admin1'].isnull()]\n",
    "usa_mobility.head()"
   ]
  },
  {
   "source": [
    "If you are interested in USA's mobility as a whole then you can visualize the following dataframe -"
   ],
   "cell_type": "markdown",
   "metadata": {}
  },
  {
   "cell_type": "code",
   "execution_count": 9,
   "metadata": {},
   "outputs": [
    {
     "output_type": "execute_result",
     "data": {
      "text/plain": [
       "DataTransformerRegistry.enable('json')"
      ]
     },
     "metadata": {},
     "execution_count": 9
    }
   ],
   "source": [
    "alt.data_transformers.enable('json')\n",
    "#alt.data_transformers.enable('data_server')"
   ]
  },
  {
   "source": [
    "I have taken the liberty to also color the facets by the median of the mobility values. To get it exactly like the chart by Axios, just remove the `fill` encoding. "
   ],
   "cell_type": "markdown",
   "metadata": {}
  },
  {
   "cell_type": "code",
   "execution_count": 17,
   "metadata": {},
   "outputs": [
    {
     "output_type": "execute_result",
     "data": {
      "text/html": "\n<div id=\"altair-viz-4faa0d838adf4e5489beb350b6e1a5fc\"></div>\n<script type=\"text/javascript\">\n  (function(spec, embedOpt){\n    let outputDiv = document.currentScript.previousElementSibling;\n    if (outputDiv.id !== \"altair-viz-4faa0d838adf4e5489beb350b6e1a5fc\") {\n      outputDiv = document.getElementById(\"altair-viz-4faa0d838adf4e5489beb350b6e1a5fc\");\n    }\n    const paths = {\n      \"vega\": \"https://cdn.jsdelivr.net/npm//vega@5?noext\",\n      \"vega-lib\": \"https://cdn.jsdelivr.net/npm//vega-lib?noext\",\n      \"vega-lite\": \"https://cdn.jsdelivr.net/npm//vega-lite@4.8.1?noext\",\n      \"vega-embed\": \"https://cdn.jsdelivr.net/npm//vega-embed@6?noext\",\n    };\n\n    function loadScript(lib) {\n      return new Promise(function(resolve, reject) {\n        var s = document.createElement('script');\n        s.src = paths[lib];\n        s.async = true;\n        s.onload = () => resolve(paths[lib]);\n        s.onerror = () => reject(`Error loading script: ${paths[lib]}`);\n        document.getElementsByTagName(\"head\")[0].appendChild(s);\n      });\n    }\n\n    function showError(err) {\n      outputDiv.innerHTML = `<div class=\"error\" style=\"color:red;\">${err}</div>`;\n      throw err;\n    }\n\n    function displayChart(vegaEmbed) {\n      vegaEmbed(outputDiv, spec, embedOpt)\n        .catch(err => showError(`Javascript Error: ${err.message}<br>This usually means there's a typo in your chart specification. See the javascript console for the full traceback.`));\n    }\n\n    if(typeof define === \"function\" && define.amd) {\n      requirejs.config({paths});\n      require([\"vega-embed\"], displayChart, err => showError(`Error loading script: ${err.message}`));\n    } else if (typeof vegaEmbed === \"function\") {\n      displayChart(vegaEmbed);\n    } else {\n      loadScript(\"vega\")\n        .then(() => loadScript(\"vega-lite\"))\n        .then(() => loadScript(\"vega-embed\"))\n        .catch(showError)\n        .then(() => displayChart(vegaEmbed));\n    }\n  })({\"config\": {\"view\": {\"continuousWidth\": 400, \"continuousHeight\": 300, \"stroke\": null}, \"facet\": {\"spacing\": 0}, \"title\": {\"anchor\": \"middle\"}}, \"data\": {\"url\": \"https://raw.githubusercontent.com/armsp/covidviz/master/assets/2020-08-31_Mobility_Data.json\"}, \"mark\": \"area\", \"bounds\": \"flush\", \"encoding\": {\"facet\": {\"type\": \"nominal\", \"columns\": 1, \"field\": \"admin1\", \"header\": {\"labelAlign\": \"left\", \"labelAnchor\": \"middle\", \"labelAngle\": 0, \"labelOrient\": \"left\"}, \"title\": null}, \"fill\": {\"type\": \"quantitative\", \"aggregate\": \"median\", \"field\": \"avg_m50\", \"legend\": null, \"scale\": {\"domain\": [0, 170], \"scheme\": \"yellowgreenblue\"}}, \"fillOpacity\": {\"condition\": {\"value\": 0.8, \"selection\": \"selector006\"}, \"value\": 0.4}, \"x\": {\"type\": \"temporal\", \"axis\": {\"domain\": true, \"format\": \"%b\", \"labels\": true, \"tickCount\": 5, \"ticks\": false}, \"field\": \"date\", \"title\": null}, \"y\": {\"type\": \"quantitative\", \"axis\": null, \"field\": \"avg_m50\", \"scale\": {\"range\": [50, -100], \"zero\": false}, \"title\": null}}, \"height\": 40, \"selection\": {\"selector006\": {\"type\": \"single\", \"on\": \"mouseover\", \"empty\": \"all\"}}, \"title\": \"Median Mobility\", \"transform\": [{\"window\": [{\"op\": \"mean\", \"field\": \"m50_index\", \"as\": \"avg_m50\"}], \"frame\": [-6, 0], \"groupby\": [\"fips\"]}], \"width\": 700, \"$schema\": \"https://vega.github.io/schema/vega-lite/v4.8.1.json\"}, {\"actions\": false, \"mode\": \"vega-lite\"});\n</script>",
      "text/plain": [
       "alt.Chart(...)"
      ]
     },
     "metadata": {},
     "execution_count": 17
    }
   ],
   "source": [
    "url = 'https://raw.githubusercontent.com/armsp/covidviz/master/assets/2020-08-31_Mobility_Data.json' # comment this when running locally\n",
    "# url = mobility_states # uncomment this when running locally\n",
    "\n",
    "highlight = alt.selection_single(on='mouseover', empty='all') # it looks like at present \"facet\" is not accepted as an encoding here even though it has been added as an encoding in a traditional sense of usage\n",
    "\n",
    "alt.Chart(url, height=40, width=700,).mark_area().transform_window(\n",
    "    avg_m50 ='mean(m50_index)', frame=(-6,0), groupby=['fips']\n",
    ").encode(\n",
    "    x=alt.X('date:T', title=None, axis=alt.Axis(domain=True, ticks=False, labels=True, format=\"%b\", tickCount=5)),\n",
    "    y = alt.Y('avg_m50:Q', title=None, axis=None, scale=alt.Scale(range=[50, -100], zero=False),),#zero=False is important because of how vega-lite handles the range of data internally. When we used the raw values without averaging then it did not think that we may have negative values etc so the graph was not expanded for that. But when we did the averaging, somehow it decided to have some space for negative values, that's why your graph was pulled up from x-axis. By mentioning that we will not show zero or below values you manually fixed that range and the graph was pulled down as it was earlier.\n",
    "    fillOpacity= alt.condition(highlight, alt.value(0.8), alt.value(0.4)),\n",
    "    fill = alt.Fill(\n",
    "        'median(avg_m50):Q',\n",
    "        legend=None,\n",
    "        scale=alt.Scale(domain=[0,170],scheme='yellowgreenblue') #setting up domain gives favourable colours\n",
    "    ),\n",
    "    facet = alt.Facet('admin1:N', title=None, columns=1, header=alt.Header(labelAngle=0, labelOrient='left', labelAlign='left', labelAnchor='middle'))\n",
    "\n",
    ").configure_facet(spacing=0,).properties(bounds='flush', title='Median Mobility',).configure_view(stroke=None).configure_title(\n",
    "    anchor='middle'\n",
    ").add_selection(highlight)"
   ]
  },
  {
   "cell_type": "code",
   "execution_count": null,
   "metadata": {},
   "outputs": [],
   "source": []
  }
 ],
 "metadata": {
  "kernelspec": {
   "display_name": "Python 3",
   "language": "python",
   "name": "python3"
  },
  "language_info": {
   "codemirror_mode": {
    "name": "ipython",
    "version": 3
   },
   "file_extension": ".py",
   "mimetype": "text/x-python",
   "name": "python",
   "nbconvert_exporter": "python",
   "pygments_lexer": "ipython3",
   "version": "3.8.5-final"
  }
 },
 "nbformat": 4,
 "nbformat_minor": 4
}