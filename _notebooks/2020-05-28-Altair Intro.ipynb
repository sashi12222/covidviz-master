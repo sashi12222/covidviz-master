{
 "cells": [
  {
   "cell_type": "markdown",
   "metadata": {},
   "source": [
    "# What is Altair?\n",
    "> An introduction to Altair and what is it built on. Placeholder post for the upcoming posts on making professional graphs like NYT. \n",
    "\n",
    "- toc: false\n",
    "- comments: true\n",
    "- image: images/intro.png\n",
    "- hide: false\n",
    "- search_exclude: false\n",
    "- categories: []\n",
    "- metadata_key1: metadata_value1\n",
    "- metadata_key2: metadata_value2\n",
    "- author: Shantam Raj\n",
    "- badges: false"
   ]
  },
  {
   "cell_type": "code",
   "execution_count": null,
   "metadata": {},
   "outputs": [],
   "source": []
  },
  {
   "cell_type": "markdown",
   "metadata": {},
   "source": [
    "To understand Altair we need to know what is it built on. The following hierarchy enables us to understand that -\n",
    "* [D3](https://d3js.org/)\n",
    "* [Vega](https://vega.github.io/vega/)\n",
    "* [Vega-Lite](https://vega.github.io/vega-lite/)\n",
    "* [Altair](https://altair-viz.github.io/)"
   ]
  },
  {
   "cell_type": "markdown",
   "metadata": {},
   "source": [
    "Lets start with Vega.\n",
    "### What is Vega?\n",
    "\n",
    "> Vega is a visualization grammar, a declarative language for creating, saving, and sharing interactive visualization designs. With Vega, you can describe the visual appearance and interactive behavior of a visualization in a JSON format, and generate web-based views using Canvas or SVG.\n",
    "\n",
    "\n"
   ]
  },
  {
   "cell_type": "markdown",
   "metadata": {},
   "source": [
    "> Note: visualization grammar"
   ]
  },
  {
   "cell_type": "markdown",
   "metadata": {},
   "source": [
    "### Where does D3 fit in here?\n",
    "\n"
   ]
  },
  {
   "cell_type": "markdown",
   "metadata": {},
   "source": [
    "> To be clear, Vega is not intended as a “replacement” for D3. D3 is intentionally a lower-level library. During the early design of D3, we even referred to it as a “visualization kernel” rather than a “toolkit” or “framework”. In addition to custom design, D3 is intended as a supporting layer for higher-level visualization tools. Vega is one such tool, and Vega uses D3 heavily within its implementation.\n",
    "\n"
   ]
  },
  {
   "cell_type": "markdown",
   "metadata": {},
   "source": [
    "> Vega provides a higher-level visualization specification language on top of D3. By design, D3 will maintain an “expressivity advantage” and in some cases will be better suited for novel design ideas. On the other hand, we intend Vega to be convenient for a wide range of common yet customizable visualizations. \n",
    "\n"
   ]
  },
  {
   "cell_type": "markdown",
   "metadata": {},
   "source": [
    "Now, that we know the top hierarchy, the rest is easy to follow -\n",
    "\n",
    "### **Vega-Lite**\n",
    "\n",
    "> Vega-Lite is a high-level grammar of interactive graphics. It provides a concise JSON syntax for rapidly generating visualizations to support analysis. Vega-Lite specifications can be compiled to Vega specifications.\n"
   ]
  },
  {
   "cell_type": "markdown",
   "metadata": {},
   "source": [
    "> Note: high-level visualization grammar\n",
    "\n"
   ]
  },
  {
   "cell_type": "markdown",
   "metadata": {},
   "source": [
    "Vega-Lite is used by some big players -\n",
    "\n",
    "<!-- aergus/latex -->"
   ]
  },
  {
   "cell_type": "markdown",
   "metadata": {},
   "source": [
    "<ul class=\"logos\">\n",
    "  <li><img src=\"/covidviz/assets/logo_apple.png\" alt=\"Apple\" title=\"\"></li>\n",
    "  <li><img src=\"/covidviz/assets/logo_google.png\" alt=\"Google\"></li>\n",
    "  <li><img src=\"/covidviz/assets/logo_ms.png\" alt=\"Microsoft\"></li>\n",
    "  <li><img src=\"/covidviz/assets/logo_tableau.png\" alt=\"Tableau\"></li>\n",
    "  <li><img src=\"/covidviz/assets/logo_airbnb.png\" alt=\"Airbnb\"></li>\n",
    "  <li><img src=\"/covidviz/assets/logo_jlab.png\" alt=\"JupyterLab\"></li>\n",
    "  <li><img src=\"/covidviz/assets/logo_la_times.png\" alt=\"LA Times\"></li>\n",
    "  <li><img src=\"/covidviz/assets/logo_cern.png\" alt=\"CERN\"></li>\n",
    "  <li><img src=\"/covidviz/assets/logo_mit.png\" alt=\"Massachusetts Institute of Technology\"></li>\n",
    "  <li><img src=\"/covidviz/assets/logo_uw.png\" alt=\"University of Washington\"></li>\n",
    "  <li><img src=\"/covidviz/assets/logo_cmu.png\" alt=\"Carnegie Mellon University\"></li>\n",
    "  <li><img src=\"/covidviz/assets/logo_berkeley.png\" alt=\"Berkeley\"></li>\n",
    "</ul>"
   ]
  },
  {
   "cell_type": "markdown",
   "metadata": {},
   "source": [
    "### **Altair**\n",
    "\n",
    "In short, Altair exposes a Python API for building statistical visualizations that follows Vega-Lite syntax.\n",
    "\n",
    "> Altair is a declarative statistical visualization library for Python, based on Vega and Vega-Lite. With Altair, you can spend more time understanding your data and its meaning.\n",
    "\n",
    "\n",
    "> Altair’s API is simple, friendly and consistent and built on top of the powerful Vega-Lite visualization grammar. This elegant simplicity produces beautiful and effective visualizations with a minimal amount of code."
   ]
  },
  {
   "cell_type": "markdown",
   "metadata": {},
   "source": [
    "---\n",
    "I do not intend to teach you how to use Altair or Vega Lite. You can do that on your own using the following excellent resources -\n",
    "\n",
    "* Conference Talk by Jake VanderPlas\n",
    "> youtube: https://www.youtube.com/watch?v=ms29ZPUKxbU\n",
    "\n"
   ]
  },
  {
   "cell_type": "markdown",
   "metadata": {},
   "source": [
    "* [Exploratory Data Visualization with Altair](https://altair-viz.github.io/altair-tutorial/README.html)\n",
    "* [UW Data Viz Curriculum](https://github.com/uwdata/visualization-curriculum)"
   ]
  }
 ],
 "metadata": {
  "kernelspec": {
   "display_name": "Python 3",
   "language": "python",
   "name": "python3"
  },
  "language_info": {
   "codemirror_mode": {
    "name": "ipython",
    "version": 3
   },
   "file_extension": ".py",
   "mimetype": "text/x-python",
   "name": "python",
   "nbconvert_exporter": "python",
   "pygments_lexer": "ipython3",
   "version": "3.6.9-final"
  }
 },
 "nbformat": 4,
 "nbformat_minor": 4
}